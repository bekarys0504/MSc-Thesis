{
 "cells": [
  {
   "cell_type": "code",
   "execution_count": 14,
   "metadata": {},
   "outputs": [],
   "source": [
    "import numpy as np\n",
    "from scipy import signal, misc\n",
    "import matplotlib.pyplot as plt\n",
    "import mne\n",
    "import scipy.io\n",
    "from sklearn.model_selection import train_test_split\n",
    "from sklearn.preprocessing import LabelEncoder\n",
    "from sklearn.metrics import accuracy_score, confusion_matrix\n",
    "\n",
    "import xgboost as xgb\n",
    "import pickle\n",
    "import os\n",
    "import pandas as pd\n",
    "import random\n",
    "import shutil\n",
    "\n",
    "data_path = r'../data/interim/dataset_1_cheb2/'\n",
    "output_path = r'../data/processed/deep_learning_data/'"
   ]
  },
  {
   "cell_type": "code",
   "execution_count": 26,
   "metadata": {},
   "outputs": [],
   "source": [
    "def divide_into_epochs(filename, s_data, output_path):\n",
    "    start = 0\n",
    "    end = 2000\n",
    "    step = int((end-start)/2)\n",
    "    count = 0\n",
    "    while end < len(s_data):\n",
    "        if 'depressed' in filename.lower():\n",
    "            npy_path = output_path+'train/Depressed/'+filename[:-4]+str(count)+'.npy' #remove .csv from filename and append count and .txt extension\n",
    "            np.save(npy_path, s_data[start:end].values.astype(np.double))\n",
    "        elif 'healthy' in filename.lower():\n",
    "            npy_path = output_path+'train/Healthy/'+filename[:-4]+str(count)+'.npy'\n",
    "            np.save(npy_path, s_data[start:end].values.astype(np.double))\n",
    "        count += 1\n",
    "        start = start+step\n",
    "        end = end+step"
   ]
  },
  {
   "cell_type": "code",
   "execution_count": 27,
   "metadata": {},
   "outputs": [],
   "source": [
    "length = []\n",
    "for filename in os.listdir(data_path):\n",
    "    s_data = pd.read_csv(os.path.join(data_path, filename), index_col=False).iloc[:,2:-4]\n",
    "    length.append(len(s_data))\n",
    "    divide_into_epochs(filename, s_data, output_path)"
   ]
  },
  {
   "cell_type": "code",
   "execution_count": 29,
   "metadata": {},
   "outputs": [
    {
     "ename": "FileNotFoundError",
     "evalue": "[WinError 3] The system cannot find the path specified: '../data/interim/dataset_1_cheb2/train/Depressed'",
     "output_type": "error",
     "traceback": [
      "\u001b[1;31m---------------------------------------------------------------------------\u001b[0m",
      "\u001b[1;31mFileNotFoundError\u001b[0m                         Traceback (most recent call last)",
      "\u001b[1;32md:\\Downloads\\DTU\\semester 4\\thesis\\MSc-Thesis\\notebooks\\deep_learning.ipynb Cell 4\u001b[0m in \u001b[0;36m<cell line: 9>\u001b[1;34m()\u001b[0m\n\u001b[0;32m      <a href='vscode-notebook-cell:/d%3A/Downloads/DTU/semester%204/thesis/MSc-Thesis/notebooks/deep_learning.ipynb#W6sZmlsZQ%3D%3D?line=5'>6</a>\u001b[0m     \u001b[39mfor\u001b[39;00m file \u001b[39min\u001b[39;00m test_data:\n\u001b[0;32m      <a href='vscode-notebook-cell:/d%3A/Downloads/DTU/semester%204/thesis/MSc-Thesis/notebooks/deep_learning.ipynb#W6sZmlsZQ%3D%3D?line=6'>7</a>\u001b[0m         shutil\u001b[39m.\u001b[39mmove(output_path\u001b[39m+\u001b[39m\u001b[39m'\u001b[39m\u001b[39mtrain/\u001b[39m\u001b[39m'\u001b[39m\u001b[39m+\u001b[39mclassname\u001b[39m+\u001b[39m\u001b[39m'\u001b[39m\u001b[39m/\u001b[39m\u001b[39m'\u001b[39m\u001b[39m+\u001b[39mfile, output_path\u001b[39m+\u001b[39m\u001b[39m'\u001b[39m\u001b[39mtest/\u001b[39m\u001b[39m'\u001b[39m\u001b[39m+\u001b[39mclassname\u001b[39m+\u001b[39m\u001b[39m'\u001b[39m\u001b[39m/\u001b[39m\u001b[39m'\u001b[39m\u001b[39m+\u001b[39mfile)\n\u001b[1;32m----> <a href='vscode-notebook-cell:/d%3A/Downloads/DTU/semester%204/thesis/MSc-Thesis/notebooks/deep_learning.ipynb#W6sZmlsZQ%3D%3D?line=8'>9</a>\u001b[0m move_test_data(\u001b[39m400\u001b[39;49m, \u001b[39m'\u001b[39;49m\u001b[39mDepressed\u001b[39;49m\u001b[39m'\u001b[39;49m, output_path)\n\u001b[0;32m     <a href='vscode-notebook-cell:/d%3A/Downloads/DTU/semester%204/thesis/MSc-Thesis/notebooks/deep_learning.ipynb#W6sZmlsZQ%3D%3D?line=9'>10</a>\u001b[0m move_test_data(\u001b[39m400\u001b[39m, \u001b[39m'\u001b[39m\u001b[39mHealthy\u001b[39m\u001b[39m'\u001b[39m, output_path)\n",
      "\u001b[1;32md:\\Downloads\\DTU\\semester 4\\thesis\\MSc-Thesis\\notebooks\\deep_learning.ipynb Cell 4\u001b[0m in \u001b[0;36mmove_test_data\u001b[1;34m(N, classname, output_path)\u001b[0m\n\u001b[0;32m      <a href='vscode-notebook-cell:/d%3A/Downloads/DTU/semester%204/thesis/MSc-Thesis/notebooks/deep_learning.ipynb#W6sZmlsZQ%3D%3D?line=1'>2</a>\u001b[0m \u001b[39mdef\u001b[39;00m \u001b[39mmove_test_data\u001b[39m(N, classname, output_path):\n\u001b[1;32m----> <a href='vscode-notebook-cell:/d%3A/Downloads/DTU/semester%204/thesis/MSc-Thesis/notebooks/deep_learning.ipynb#W6sZmlsZQ%3D%3D?line=2'>3</a>\u001b[0m     data_list \u001b[39m=\u001b[39m os\u001b[39m.\u001b[39;49mlistdir(data_path\u001b[39m+\u001b[39;49m\u001b[39m'\u001b[39;49m\u001b[39mtrain/\u001b[39;49m\u001b[39m'\u001b[39;49m\u001b[39m+\u001b[39;49mclassname)\n\u001b[0;32m      <a href='vscode-notebook-cell:/d%3A/Downloads/DTU/semester%204/thesis/MSc-Thesis/notebooks/deep_learning.ipynb#W6sZmlsZQ%3D%3D?line=3'>4</a>\u001b[0m     test_data \u001b[39m=\u001b[39m random\u001b[39m.\u001b[39msample(data_list, k\u001b[39m=\u001b[39mN)\n\u001b[0;32m      <a href='vscode-notebook-cell:/d%3A/Downloads/DTU/semester%204/thesis/MSc-Thesis/notebooks/deep_learning.ipynb#W6sZmlsZQ%3D%3D?line=5'>6</a>\u001b[0m     \u001b[39mfor\u001b[39;00m file \u001b[39min\u001b[39;00m test_data:\n",
      "\u001b[1;31mFileNotFoundError\u001b[0m: [WinError 3] The system cannot find the path specified: '../data/interim/dataset_1_cheb2/train/Depressed'"
     ]
    }
   ],
   "source": [
    "# move 200 data from train folder ot test folder\n",
    "def move_test_data(N, classname, output_path):\n",
    "    data_list = os.listdir(output_path+'train/'+classname)\n",
    "    test_data = random.sample(data_list, k=N)\n",
    "\n",
    "    for file in test_data:\n",
    "        shutil.move(output_path+'train/'+classname+'/'+file, output_path+'test/'+classname+'/'+file)\n",
    "\n",
    "move_test_data(400, 'Depressed', output_path)\n",
    "move_test_data(400, 'Healthy', output_path)"
   ]
  },
  {
   "cell_type": "code",
   "execution_count": null,
   "metadata": {},
   "outputs": [],
   "source": []
  }
 ],
 "metadata": {
  "kernelspec": {
   "display_name": "Python 3.9.13 ('thesis_venv': venv)",
   "language": "python",
   "name": "python3"
  },
  "language_info": {
   "codemirror_mode": {
    "name": "ipython",
    "version": 3
   },
   "file_extension": ".py",
   "mimetype": "text/x-python",
   "name": "python",
   "nbconvert_exporter": "python",
   "pygments_lexer": "ipython3",
   "version": "3.9.13"
  },
  "orig_nbformat": 4,
  "vscode": {
   "interpreter": {
    "hash": "343c8484fb7cc4d3717e305d494ac201a19ddc5efe49b8492f89894e079ff7f4"
   }
  }
 },
 "nbformat": 4,
 "nbformat_minor": 2
}
